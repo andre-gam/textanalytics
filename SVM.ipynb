{
  "nbformat": 4,
  "nbformat_minor": 0,
  "metadata": {
    "colab": {
      "provenance": []
    },
    "kernelspec": {
      "name": "python3",
      "display_name": "Python 3"
    },
    "language_info": {
      "name": "python"
    }
  },
  "cells": [
    {
      "cell_type": "code",
      "execution_count": null,
      "metadata": {
        "colab": {
          "base_uri": "https://localhost:8080/"
        },
        "id": "6r6cGt7a4adk",
        "outputId": "6e57232f-a717-43c2-c30f-79627cd8cc71"
      },
      "outputs": [
        {
          "output_type": "stream",
          "name": "stderr",
          "text": [
            "[nltk_data] Downloading package punkt to /root/nltk_data...\n",
            "[nltk_data]   Package punkt is already up-to-date!\n",
            "[nltk_data] Downloading package rslp to /root/nltk_data...\n",
            "[nltk_data]   Package rslp is already up-to-date!\n"
          ]
        },
        {
          "output_type": "execute_result",
          "data": {
            "text/plain": [
              "True"
            ]
          },
          "metadata": {},
          "execution_count": 79
        }
      ],
      "source": [
        "from utils import *\n",
        "import nltk\n",
        "import seaborn as sns\n",
        "from nltk.corpus import stopwords\n",
        "import matplotlib.pyplot as plt\n",
        "from sklearn.model_selection import train_test_split\n",
        "\n",
        "from sklearn.feature_extraction.text import CountVectorizer\n",
        "from sklearn.feature_extraction.text import TfidfTransformer\n",
        "from sklearn.naive_bayes import MultinomialNB\n",
        "from sklearn import svm\n",
        "from sklearn import metrics\n",
        "import numpy as np\n",
        "import pandas as pd\n",
        "nltk.download('punkt')\n",
        "nltk.download('rslp')\n",
        "\n"
      ]
    },
    {
      "cell_type": "code",
      "source": [
        "#Importação do arquivo 'csv' para o python utilizando a biblioteca pandas\n",
        "\n",
        "X_col = 'review_text'\n",
        "y_col = 'polarity'\n",
        "\n",
        "ds = pd.read_csv('olist.csv', delimiter=',')\n",
        "\n",
        "#Remoçao das linhas com valores NaN e eliminação de exemplos positivos para balancear a base de dados\n",
        "ds = ds.dropna()\n",
        "ds_remove = ds.loc[(ds['rating'] == 4)]\n",
        "ds = ds.drop(ds_remove.index)\n",
        "\n",
        "X = ds.loc[:, X_col].values\n",
        "y = ds.loc[:, y_col].values\n",
        "\n"
      ],
      "metadata": {
        "id": "I1G38Tf_4zxS"
      },
      "execution_count": null,
      "outputs": []
    },
    {
      "cell_type": "code",
      "source": [
        "#Tokenização dos textos\n",
        "preprocessamento = PreProcessamento()\n",
        "X = preprocessamento.tokenize(X)"
      ],
      "metadata": {
        "id": "UDThe9Tg5Kb0"
      },
      "execution_count": null,
      "outputs": []
    },
    {
      "cell_type": "code",
      "source": [
        "#Definição do dicionário para realizar standartization \n",
        "std_list = {'eh': 'é', 'vc': 'você', 'vcs': \n",
        "'vocês','tb': 'também', 'tbm': 'também', \n",
        "'obg': 'obrigado', 'gnt': 'gente', 'q': \n",
        "'que', 'n': 'não', 'cmg': 'comigo', 'p': \n",
        "'para', 'ta': 'está', \n",
        "'to': 'estou', 'vdd': 'verdade', 'nao': 'não'}\n",
        "\n",
        "##X = preprocessamento.apply_standardization(X, std_list)\n",
        "##X = preprocessamento.apply_stemmer(X)"
      ],
      "metadata": {
        "id": "lEoUUVPCMkWt"
      },
      "execution_count": null,
      "outputs": []
    },
    {
      "cell_type": "code",
      "source": [
        "#Utilizar a biblioteca nltk para baixar a lista de stopwords em portugues\n",
        "nltk.download('stopwords')\n",
        "stopwords_ = stopwords.words('portuguese')\n",
        "\n",
        "#Remoção da palavra 'não' da lista de stopwords, por apresentar relevância nessa classificação.\n",
        "stopwords_.remove('não')\n",
        "\n",
        "#Adicionar stopwords de acordo com as caracteristicas da base\n",
        "stopword_list=[]\n",
        "stopword_list.append('é')\n",
        "stopword_list.append('vou')\n",
        "stopword_list.append('que')\n",
        "\n",
        "#Adiciona os valores para a lista\n",
        "stopword_list.extend(stopwords_)\n",
        "\n",
        "#Remove eventuais valores duplicados\n",
        "stopword_list = list(set(stopword_list))"
      ],
      "metadata": {
        "colab": {
          "base_uri": "https://localhost:8080/"
        },
        "id": "x3mEu2125g00",
        "outputId": "8c6d069e-556b-4797-fc1e-fa8cae8f9732"
      },
      "execution_count": null,
      "outputs": [
        {
          "output_type": "stream",
          "name": "stderr",
          "text": [
            "[nltk_data] Downloading package stopwords to /root/nltk_data...\n",
            "[nltk_data]   Package stopwords is already up-to-date!\n"
          ]
        }
      ]
    },
    {
      "cell_type": "code",
      "source": [
        "#Remove as stopwords\n",
        "X = preprocessamento.remove_stopwords(X,stopword_list)"
      ],
      "metadata": {
        "id": "s8lgYLMr5k70"
      },
      "execution_count": null,
      "outputs": []
    },
    {
      "cell_type": "code",
      "source": [
        "#Untokenização das variáveis\n",
        "X = preprocessamento.untokenize_text(X)"
      ],
      "metadata": {
        "id": "8G7vzfso5qdh"
      },
      "execution_count": null,
      "outputs": []
    },
    {
      "cell_type": "code",
      "source": [
        "#Realiza a vetorização (one-hot encoding)\n",
        "#Opção de realizar utilizando bi-gram ou não\n",
        "\n",
        "##vectorizer = CountVectorizer(ngram_range=(2, 2))\n",
        "vectorizer = CountVectorizer()\n",
        "\n",
        "#Define o número de features\n",
        "vectorizer.max_features = 5000\n",
        "X = vectorizer.fit_transform(X)"
      ],
      "metadata": {
        "id": "I335j66e5_Nz"
      },
      "execution_count": null,
      "outputs": []
    },
    {
      "cell_type": "code",
      "source": [
        "\n",
        "#Utilização do método TF-idf para pesar a relevância das palavras no documento\n",
        "tfidf_transformer = TfidfTransformer()\n",
        "X = tfidf_transformer.fit_transform(X)"
      ],
      "metadata": {
        "id": "v5av-psr6H8H"
      },
      "execution_count": null,
      "outputs": []
    },
    {
      "cell_type": "code",
      "source": [
        "#Separa a base de dados em treino e teste\n",
        "X_train, X_test, y_train, y_test = train_test_split(X,y,test_size=0.33, random_state=1)"
      ],
      "metadata": {
        "id": "TsvnKrdE6SRh"
      },
      "execution_count": null,
      "outputs": []
    },
    {
      "cell_type": "code",
      "source": [
        "#Importação do modelo SVM\n",
        "\n",
        "model = svm.SVC()\n",
        "\n",
        "#Treinamento do modelo\n",
        "model.fit(X_train, y_train)\n",
        "\n",
        "\n",
        "##Avaliação do modelo\n",
        "\n",
        "evaluation = Evaluation()\n",
        "         \n",
        "#Realiza as previsões pelo modelo\n",
        "\n",
        "predictions = model.predict(X_test)\n",
        "\n",
        "\n",
        "#Analise dos resultados\n",
        "\n",
        "matrix = metrics.confusion_matrix(y_test, predictions)\n",
        "acc = evaluation.get_accuracy(matrix)\n",
        "f_score = evaluation.f_score(matrix)\n"
      ],
      "metadata": {
        "id": "Q6ARBgog6Yp4"
      },
      "execution_count": null,
      "outputs": []
    },
    {
      "cell_type": "code",
      "source": [
        "print(acc)\n",
        "print(f_score)"
      ],
      "metadata": {
        "colab": {
          "base_uri": "https://localhost:8080/"
        },
        "id": "ktu5X5C-7cUD",
        "outputId": "29773f0d-858f-4c09-afae-89d8f76be122"
      },
      "execution_count": null,
      "outputs": [
        {
          "output_type": "stream",
          "name": "stdout",
          "text": [
            "0.949035552193646\n",
            "0.9300272621056731\n"
          ]
        }
      ]
    },
    {
      "cell_type": "code",
      "source": [
        "#Define o plot\n",
        "fig, ax = plt.subplots(figsize=(10,6))\n",
        "\n",
        "#Adiciona o título para o mapa de calor\n",
        "title = \"Matriz de confusão\"\n",
        "\n",
        "plt.title(title,fontsize=18)\n",
        "ttl = ax.title\n",
        "ttl.set_position([0.5,1.05])\n",
        "\n",
        "##sns.heatmap(matrix, annot=True, fmt=\"\",linewidths=0.30,ax=ax)\n",
        "#Construção do mapa de calor em percentual\n",
        "sns.heatmap(matrix/np.sum(matrix), annot=True, \n",
        "            fmt='.2%', cmap='Blues',ax=ax)\n",
        "ax.set_ylabel(\"True label\",fontsize=12)\n",
        "ax.set_xlabel(\"Predicted Label\",fontsize=12)\n",
        "plt.show()"
      ],
      "metadata": {
        "colab": {
          "base_uri": "https://localhost:8080/",
          "height": 427
        },
        "id": "RRAKnFjb6v10",
        "outputId": "b5707876-4871-4373-d045-86ef893c4438"
      },
      "execution_count": null,
      "outputs": [
        {
          "output_type": "display_data",
          "data": {
            "text/plain": [
              "<Figure size 720x432 with 2 Axes>"
            ],
            "image/png": "[encoded data removed]"
          },
          "metadata": {
            "needs_background": "light"
          }
        }
      ]
    }
  ]
}