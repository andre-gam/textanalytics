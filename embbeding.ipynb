{
  "nbformat": 4,
  "nbformat_minor": 0,
  "metadata": {
    "colab": {
      "provenance": []
    },
    "kernelspec": {
      "name": "python3",
      "display_name": "Python 3"
    },
    "language_info": {
      "name": "python"
    }
  },
  "cells": [
    {
      "cell_type": "code",
      "execution_count": null,
      "metadata": {
        "colab": {
          "base_uri": "https://localhost:8080/"
        },
        "id": "-fWc2uXYkhJI",
        "outputId": "91fc2e8d-759f-4466-8076-3496f9161f88"
      },
      "outputs": [
        {
          "output_type": "stream",
          "name": "stdout",
          "text": [
            "Looking in indexes: https://pypi.org/simple, https://us-python.pkg.dev/colab-wheels/public/simple/\n",
            "Collecting category_encoders\n",
            "  Downloading category_encoders-2.5.1.post0-py2.py3-none-any.whl (72 kB)\n",
            "\u001b[K     |████████████████████████████████| 72 kB 818 kB/s \n",
            "\u001b[?25hRequirement already satisfied: numpy>=1.14.0 in /usr/local/lib/python3.7/dist-packages (from category_encoders) (1.21.6)\n",
            "Requirement already satisfied: pandas>=1.0.5 in /usr/local/lib/python3.7/dist-packages (from category_encoders) (1.3.5)\n",
            "Requirement already satisfied: patsy>=0.5.1 in /usr/local/lib/python3.7/dist-packages (from category_encoders) (0.5.3)\n",
            "Requirement already satisfied: scipy>=1.0.0 in /usr/local/lib/python3.7/dist-packages (from category_encoders) (1.7.3)\n",
            "Requirement already satisfied: scikit-learn>=0.20.0 in /usr/local/lib/python3.7/dist-packages (from category_encoders) (1.0.2)\n",
            "Requirement already satisfied: statsmodels>=0.9.0 in /usr/local/lib/python3.7/dist-packages (from category_encoders) (0.12.2)\n",
            "Requirement already satisfied: python-dateutil>=2.7.3 in /usr/local/lib/python3.7/dist-packages (from pandas>=1.0.5->category_encoders) (2.8.2)\n",
            "Requirement already satisfied: pytz>=2017.3 in /usr/local/lib/python3.7/dist-packages (from pandas>=1.0.5->category_encoders) (2022.6)\n",
            "Requirement already satisfied: six in /usr/local/lib/python3.7/dist-packages (from patsy>=0.5.1->category_encoders) (1.15.0)\n",
            "Requirement already satisfied: threadpoolctl>=2.0.0 in /usr/local/lib/python3.7/dist-packages (from scikit-learn>=0.20.0->category_encoders) (3.1.0)\n",
            "Requirement already satisfied: joblib>=0.11 in /usr/local/lib/python3.7/dist-packages (from scikit-learn>=0.20.0->category_encoders) (1.2.0)\n",
            "Installing collected packages: category-encoders\n",
            "Successfully installed category-encoders-2.5.1.post0\n"
          ]
        }
      ],
      "source": [
        "!pip install category_encoders"
      ]
    },
    {
      "cell_type": "code",
      "source": [
        "import heapq\n",
        "from utils import *\n",
        "import math\n",
        "import pandas as pd\n",
        "import nltk\n",
        "from nltk.corpus import stopwords\n",
        "from nltk.probability import FreqDist\n",
        "import string\n",
        "import matplotlib.pyplot as plt\n",
        "from sklearn.model_selection import train_test_split\n",
        "from sklearn.pipeline import Pipeline\n",
        "from tensorflow.keras.preprocessing.sequence import pad_sequences\n",
        "import tensorflow as tf\n",
        "import nltk\n",
        "from sklearn import metrics\n",
        "nltk.download('punkt')\n",
        "nltk.download('rslp')"
      ],
      "metadata": {
        "colab": {
          "base_uri": "https://localhost:8080/"
        },
        "id": "3pe_4FMEmJwb",
        "outputId": "efb65274-781e-4b4c-86f1-89ba6e980e41"
      },
      "execution_count": null,
      "outputs": [
        {
          "output_type": "stream",
          "name": "stderr",
          "text": [
            "[nltk_data] Downloading package punkt to /root/nltk_data...\n",
            "[nltk_data]   Package punkt is already up-to-date!\n",
            "[nltk_data] Downloading package rslp to /root/nltk_data...\n",
            "[nltk_data]   Package rslp is already up-to-date!\n"
          ]
        },
        {
          "output_type": "execute_result",
          "data": {
            "text/plain": [
              "True"
            ]
          },
          "metadata": {},
          "execution_count": 260
        }
      ]
    },
    {
      "cell_type": "code",
      "source": [
        "#Importação do arquivo 'csv' para o python utilizando a biblioteca pandas\n",
        "\n",
        "ds = pd.read_csv('olist.csv', delimiter=',')\n",
        "\n",
        "#Remoçao das linhas com valores NaN e eliminação de exemplos positivos para balancear a base de dados\n",
        "ds = ds.dropna()\n",
        "ds_remove = ds.loc[(ds['rating'] == 4)]\n",
        "ds = ds.drop(ds_remove.index)\n",
        "\n",
        "X_col = 'review_text'\n",
        "y_col = 'polarity'\n",
        "\n",
        "X = ds.loc[:, X_col].values\n",
        "y = ds.loc[:, y_col].values\n",
        "\n",
        "#Tokenização\n",
        "preprocessamento = PreProcessamento()\n",
        "X = preprocessamento.tokenize(X)"
      ],
      "metadata": {
        "colab": {
          "base_uri": "https://localhost:8080/"
        },
        "id": "4VnN_ycRTm1O",
        "outputId": "a76ad6d5-94b0-41fa-e8a0-e3be3a50959c"
      },
      "execution_count": null,
      "outputs": [
        {
          "output_type": "stream",
          "name": "stderr",
          "text": [
            "[nltk_data] Downloading package stopwords to /root/nltk_data...\n",
            "[nltk_data]   Package stopwords is already up-to-date!\n"
          ]
        }
      ]
    },
    {
      "cell_type": "code",
      "source": [
        "#Utilizar a biblioteca nltk para baixar a lista de stopwords em portugues\n",
        "\n",
        "nltk.download('stopwords')\n",
        "stopwords_ = stopwords.words('portuguese')\n",
        "\n",
        "#Remoção da palavra 'não' da lista de stopwords, por apresentar relevância nessa classificação.\n",
        "stopwords_.remove('não')\n",
        "\n",
        "##Adicionar stopwords de acordo com as caracteristicas da base\n",
        "stopword_list=[]\n",
        "stopword_list.append('é')\n",
        "stopword_list.append('vou')\n",
        "stopword_list.append('que')\n",
        "\n",
        "#Adiciona os valores para a lista\n",
        "stopword_list.extend(stopwords_)\n",
        "\n",
        "#Remove eventuais valores duplicados\n",
        "stopword_list = list(set(stopword_list))\n",
        "\n",
        "X = preprocessamento.remove_stopwords(X,stopword_list)\n",
        "\n",
        "#Definição do dicionário para realizar standartization\n",
        "std_list = {'eh': 'é', 'vc': 'você', 'vcs': \n",
        "'vocês','tb': 'também', 'tbm': 'também', \n",
        "'obg': 'obrigado', 'gnt': 'gente', 'q': \n",
        "'que', 'n': 'não', 'cmg': 'comigo', 'p': \n",
        "'para', 'ta': 'está', \n",
        "'to': 'estou', 'vdd': 'verdade', 'nao': 'não'}\n",
        "\n",
        "##X = preprocessamento.apply_standardization(X, std_list)\n",
        "\n",
        "X = preprocessamento.apply_stemmer(X)\n",
        "\n",
        "##X = preprocessamento.generate_N_grams(X,2)"
      ],
      "metadata": {
        "id": "V-j3u01-TuTG"
      },
      "execution_count": null,
      "outputs": []
    },
    {
      "cell_type": "code",
      "source": [
        "#Construção de dicionário com a frequência de cada palavra do vocabulário\n",
        "\n",
        "def bag_words(feature):\n",
        "    wordfreq = {}\n",
        "    for sentence in feature:\n",
        "        for token in sentence:\n",
        "            if token not in wordfreq.keys():\n",
        "                wordfreq[token] = 1\n",
        "            else:\n",
        "                wordfreq[token] += 1\n",
        "            \n",
        "    return wordfreq\n",
        "\n",
        "wordfreq = bag_words(X)\n",
        "\n",
        "#Define as 5000 palavras mais frequentes para serem utilizadas como features\n",
        "most_freq = heapq.nlargest(5000, wordfreq, key=wordfreq.get)"
      ],
      "metadata": {
        "id": "poZ_izheT_R8"
      },
      "execution_count": null,
      "outputs": []
    },
    {
      "cell_type": "code",
      "source": [
        "#Função para transformar as palavras em códigos numéricos (de 1 a 5000)\n",
        "\n",
        "def index(feature,most_freq):\n",
        "    M = []\n",
        "    for sentence in feature:\n",
        "        L = []\n",
        "        indice = ''\n",
        "        for token in sentence:\n",
        "            if token in most_freq:\n",
        "                indice = most_freq.index(token)\n",
        "                L.append(indice)\n",
        "                #analisar o espaço no final de cada lista (documento)\n",
        "        M.append(L)\n",
        "\n",
        "    return M\n",
        "\n",
        "X = index(X,most_freq)\n",
        "\n",
        "#Cálculo do documento com maior número de palavras\n",
        "def maior_comp(feature):\n",
        "    maximo = 0\n",
        "    cont = 0\n",
        "    for sentence in feature:\n",
        "        for token in sentence:\n",
        "            cont+=1\n",
        "        if cont>maximo:\n",
        "            maximo = cont\n",
        "        cont = 0\n",
        "    return maximo\n",
        "\n",
        "maximo = maior_comp(X)\n",
        "\n",
        "#Igualar o número de palavras nos documentos\n",
        "X = pad_sequences(X, value = 1, padding = 'post', maxlen = maximo)"
      ],
      "metadata": {
        "id": "dVLepgdtUOW0"
      },
      "execution_count": null,
      "outputs": []
    },
    {
      "cell_type": "code",
      "source": [
        "#Definição da base de treino e teste\n",
        "X_train, X_test, y_train, y_test = train_test_split(X,y,test_size=0.33, random_state=1)\n",
        "\n",
        "from tensorflow.python.keras.models import Sequential\n",
        "from tensorflow.python.keras.layers import Embedding, Dense, GlobalAveragePooling1D\n",
        "from tensorflow.keras.callbacks import LambdaCallback\n",
        "\n",
        "#Definição da rede neural \n",
        "model = Sequential([\n",
        "    Embedding(5000, 16),\n",
        "    GlobalAveragePooling1D(),\n",
        "    Dense(16, activation = 'relu',kernel_regularizer=tf.keras.regularizers.l2(0.3)),\n",
        "    Dense(1, activation = 'sigmoid')\n",
        "])\n",
        "\n",
        "model.compile(\n",
        "    optimizer = 'adam',\n",
        "    ##loss=tf.keras.losses.SparseCategoricalCrossentropy(), usar quando for softmax\n",
        "    loss = 'binary_crossentropy',\n",
        "    metrics = ['acc']\n",
        ")\n",
        "\n",
        "model.summary()"
      ],
      "metadata": {
        "colab": {
          "base_uri": "https://localhost:8080/"
        },
        "id": "cynjHZzpUaoN",
        "outputId": "ae8ff4f6-32b7-4c14-bd9a-0b3c9edd5c25"
      },
      "execution_count": null,
      "outputs": [
        {
          "output_type": "stream",
          "name": "stdout",
          "text": [
            "Model: \"sequential_11\"\n",
            "_________________________________________________________________\n",
            "Layer (type)                 Output Shape              Param #   \n",
            "=================================================================\n",
            "embedding_11 (Embedding)     (None, None, 16)          80000     \n",
            "_________________________________________________________________\n",
            "global_average_pooling1d_11  (None, 16)                0         \n",
            "_________________________________________________________________\n",
            "dense_22 (Dense)             (None, 16)                272       \n",
            "_________________________________________________________________\n",
            "dense_23 (Dense)             (None, 1)                 17        \n",
            "=================================================================\n",
            "Total params: 80,289\n",
            "Trainable params: 80,289\n",
            "Non-trainable params: 0\n",
            "_________________________________________________________________\n"
          ]
        }
      ]
    },
    {
      "cell_type": "code",
      "source": [
        "simple_logging = LambdaCallback(on_epoch_end = lambda e, l: print(e, end='.'))\n",
        "\n",
        "E = 20\n",
        "\n",
        "#Treinamento da rede neural\n",
        "h = model.fit(\n",
        "    X_train, y_train,\n",
        "    validation_split = 0.2,\n",
        "    epochs = E,\n",
        "    callbacks = [simple_logging],\n",
        "    verbose = False\n",
        "            )\n",
        "\n",
        "#Análise da acuracidade de treino e teste\n",
        "plt.plot(range(E),h.history['acc'], label = 'Training')\n",
        "plt.plot(range(E),h.history['val_acc'], label = 'Validation')\n",
        "plt.legend()\n",
        "plt.show()"
      ],
      "metadata": {
        "colab": {
          "base_uri": "https://localhost:8080/",
          "height": 282
        },
        "id": "2EzFMRZXUlJ9",
        "outputId": "9891a6fe-2140-46e6-8a74-2dab3b605d02"
      },
      "execution_count": null,
      "outputs": [
        {
          "output_type": "stream",
          "name": "stdout",
          "text": [
            "0.1.2.3.4.5.6.7.8.9.10.11.12.13.14.15.16.17.18.19."
          ]
        },
        {
          "output_type": "display_data",
          "data": {
            "text/plain": [
              "<Figure size 432x288 with 1 Axes>"
            ],
            "image/png": "[encoded data removed]"
          },
          "metadata": {
            "needs_background": "light"
          }
        }
      ]
    },
    {
      "cell_type": "code",
      "source": [
        "#Fazer as previsões na base de teste\n",
        "\n",
        "predictions = model.predict(X_test)\n",
        "\n",
        "#Transformar a probabilidade em resultado e analisar os erros\n",
        "erros = []\n",
        "for i in range(0,len(predictions)):\n",
        "    if predictions[i]>0.5:\n",
        "        predictions[i]=1\n",
        "    else:\n",
        "        predictions[i]=0\n",
        "    if predictions[i] != y_test[i]:\n",
        "        erros.append(i)\n",
        "\n",
        "#Analisar os resultados\n",
        "matrix = metrics.confusion_matrix(y_test, predictions)"
      ],
      "metadata": {
        "id": "jFeXnK6-Ur0Q"
      },
      "execution_count": null,
      "outputs": []
    },
    {
      "cell_type": "code",
      "source": [
        "##Avaliação do modelo\n",
        "\n",
        "evaluation = Evaluation()\n",
        "\n",
        "acc = evaluation.get_accuracy(matrix)\n",
        "f_score = evaluation.f_score(matrix)\n",
        "\n",
        "print(acc)\n",
        "print(f_score)"
      ],
      "metadata": {
        "colab": {
          "base_uri": "https://localhost:8080/"
        },
        "id": "2e4Gg5B0VBfv",
        "outputId": "36bd2edb-f55f-4b2a-f5fa-ea7fbe04c434"
      },
      "execution_count": null,
      "outputs": [
        {
          "output_type": "stream",
          "name": "stdout",
          "text": [
            "0.9389183055975794\n",
            "0.9147532330430193\n"
          ]
        }
      ]
    },
    {
      "cell_type": "code",
      "source": [
        "#Define o plot\n",
        "fig, ax = plt.subplots(figsize=(10,6))\n",
        "\n",
        "title = \"Matriz de confusão\"\n",
        "\n",
        "plt.title(title,fontsize=18)\n",
        "ttl = ax.title\n",
        "ttl.set_position([0.5,1.05])\n",
        "\n",
        "##sns.heatmap(matrix, annot=True, fmt=\"\",linewidths=0.30,ax=ax)\n",
        "sns.heatmap(matrix/np.sum(matrix), annot=True, \n",
        "            fmt='.2%', cmap='Blues',ax=ax)\n",
        "ax.set_ylabel(\"True label\",fontsize=12)\n",
        "ax.set_xlabel(\"Predicted Label\",fontsize=12)\n",
        "plt.show()"
      ],
      "metadata": {
        "colab": {
          "base_uri": "https://localhost:8080/",
          "height": 427
        },
        "id": "ddqU0bWWLBh_",
        "outputId": "fdc994b0-59d2-4014-883f-bc8e2b1b8dea"
      },
      "execution_count": null,
      "outputs": [
        {
          "output_type": "display_data",
          "data": {
            "text/plain": [
              "<Figure size 720x432 with 2 Axes>"
            ],
            "image/png": "[encoded data removed]"
          },
          "metadata": {
            "needs_background": "light"
          }
        }
      ]
    }
  ]
}