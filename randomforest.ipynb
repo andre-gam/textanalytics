{
  "nbformat": 4,
  "nbformat_minor": 0,
  "metadata": {
    "colab": {
      "provenance": []
    },
    "kernelspec": {
      "name": "python3",
      "display_name": "Python 3"
    },
    "language_info": {
      "name": "python"
    }
  },
  "cells": [
    {
      "cell_type": "code",
      "execution_count": null,
      "metadata": {
        "colab": {
          "base_uri": "https://localhost:8080/"
        },
        "id": "-fWc2uXYkhJI",
        "outputId": "91fc2e8d-759f-4466-8076-3496f9161f88"
      },
      "outputs": [
        {
          "output_type": "stream",
          "name": "stdout",
          "text": [
            "Looking in indexes: https://pypi.org/simple, https://us-python.pkg.dev/colab-wheels/public/simple/\n",
            "Collecting category_encoders\n",
            "  Downloading category_encoders-2.5.1.post0-py2.py3-none-any.whl (72 kB)\n",
            "\u001b[K     |████████████████████████████████| 72 kB 818 kB/s \n",
            "\u001b[?25hRequirement already satisfied: numpy>=1.14.0 in /usr/local/lib/python3.7/dist-packages (from category_encoders) (1.21.6)\n",
            "Requirement already satisfied: pandas>=1.0.5 in /usr/local/lib/python3.7/dist-packages (from category_encoders) (1.3.5)\n",
            "Requirement already satisfied: patsy>=0.5.1 in /usr/local/lib/python3.7/dist-packages (from category_encoders) (0.5.3)\n",
            "Requirement already satisfied: scipy>=1.0.0 in /usr/local/lib/python3.7/dist-packages (from category_encoders) (1.7.3)\n",
            "Requirement already satisfied: scikit-learn>=0.20.0 in /usr/local/lib/python3.7/dist-packages (from category_encoders) (1.0.2)\n",
            "Requirement already satisfied: statsmodels>=0.9.0 in /usr/local/lib/python3.7/dist-packages (from category_encoders) (0.12.2)\n",
            "Requirement already satisfied: python-dateutil>=2.7.3 in /usr/local/lib/python3.7/dist-packages (from pandas>=1.0.5->category_encoders) (2.8.2)\n",
            "Requirement already satisfied: pytz>=2017.3 in /usr/local/lib/python3.7/dist-packages (from pandas>=1.0.5->category_encoders) (2022.6)\n",
            "Requirement already satisfied: six in /usr/local/lib/python3.7/dist-packages (from patsy>=0.5.1->category_encoders) (1.15.0)\n",
            "Requirement already satisfied: threadpoolctl>=2.0.0 in /usr/local/lib/python3.7/dist-packages (from scikit-learn>=0.20.0->category_encoders) (3.1.0)\n",
            "Requirement already satisfied: joblib>=0.11 in /usr/local/lib/python3.7/dist-packages (from scikit-learn>=0.20.0->category_encoders) (1.2.0)\n",
            "Installing collected packages: category-encoders\n",
            "Successfully installed category-encoders-2.5.1.post0\n"
          ]
        }
      ],
      "source": [
        "!pip install category_encoders"
      ]
    },
    {
      "cell_type": "code",
      "source": [
        "from utils import *\n",
        "import category_encoders as ce\n",
        "from sklearn.ensemble import RandomForestClassifier\n",
        "import pandas as pd\n",
        "import seaborn as sns\n",
        "import matplotlib.pyplot as plt\n",
        "from sklearn.model_selection import train_test_split\n",
        "from sklearn.feature_extraction.text import CountVectorizer\n",
        "from sklearn.feature_extraction.text import TfidfTransformer\n",
        "from sklearn import metrics\n",
        "import numpy as np\n",
        "from nltk.corpus import stopwords\n",
        "import nltk\n",
        "nltk.download('punkt')\n",
        "nltk.download('rslp')"
      ],
      "metadata": {
        "colab": {
          "base_uri": "https://localhost:8080/"
        },
        "id": "3pe_4FMEmJwb",
        "outputId": "b11dd6f3-a515-4448-a1dc-4513e9fdfcca"
      },
      "execution_count": null,
      "outputs": [
        {
          "output_type": "stream",
          "name": "stderr",
          "text": [
            "[nltk_data] Downloading package punkt to /root/nltk_data...\n",
            "[nltk_data]   Package punkt is already up-to-date!\n",
            "[nltk_data] Downloading package rslp to /root/nltk_data...\n",
            "[nltk_data]   Package rslp is already up-to-date!\n"
          ]
        },
        {
          "output_type": "execute_result",
          "data": {
            "text/plain": [
              "True"
            ]
          },
          "metadata": {},
          "execution_count": 151
        }
      ]
    },
    {
      "cell_type": "code",
      "source": [
        "#Importação do arquivo 'csv' para o python utilizando a biblioteca pandas\n",
        "\n",
        "X_col = 'review_text'\n",
        "y_col = 'polarity'\n",
        "\n",
        "ds = pd.read_csv('olist.csv', delimiter=',')\n",
        "\n",
        "#Remoçao das linhas com valores NaN e eliminação de exemplos positivos para balancear a base de dados\n",
        "ds = ds.dropna()\n",
        "ds_remove = ds.loc[(ds['rating'] == 4)]\n",
        "ds = ds.drop(ds_remove.index)\n",
        "\n",
        "\n",
        "X = ds.loc[:, X_col].values\n",
        "y = ds.loc[:, y_col].values"
      ],
      "metadata": {
        "id": "wS_J_-kRmRnK"
      },
      "execution_count": null,
      "outputs": []
    },
    {
      "cell_type": "code",
      "source": [
        "#Tokenização dos textos\n",
        "preprocessamento = PreProcessamento()\n",
        "X = preprocessamento.tokenize(X)"
      ],
      "metadata": {
        "id": "UdYIArxfmWK9"
      },
      "execution_count": null,
      "outputs": []
    },
    {
      "cell_type": "code",
      "source": [
        "#Utilizar a biblioteca nltk para baixar a lista de stopwords em portugues\n",
        "nltk.download('stopwords')\n",
        "stopwords_ = stopwords.words('portuguese')\n",
        "\n",
        "#Remoção da palavra 'não' da lista de stopwords, por apresentar relevância nessa classificação.\n",
        "stopwords_.remove('não')\n",
        "\n",
        "#Adicionar stopwords de acordo com as caracteristicas da base\n",
        "stopword_list=[]\n",
        "stopword_list.append('é')\n",
        "stopword_list.append('vou')\n",
        "stopword_list.append('que')\n",
        "\n",
        "#Adiciona os valores para a lista\n",
        "stopword_list.extend(stopwords_)\n",
        "\n",
        "#Remove eventuais valores duplicados\n",
        "stopword_list = list(set(stopword_list))"
      ],
      "metadata": {
        "colab": {
          "base_uri": "https://localhost:8080/"
        },
        "id": "P6Gxptw0mhEB",
        "outputId": "2300cd25-77f7-40cd-9a11-f387b3ab1867"
      },
      "execution_count": null,
      "outputs": [
        {
          "output_type": "stream",
          "name": "stderr",
          "text": [
            "[nltk_data] Downloading package stopwords to /root/nltk_data...\n",
            "[nltk_data]   Package stopwords is already up-to-date!\n"
          ]
        }
      ]
    },
    {
      "cell_type": "code",
      "source": [
        "#Remove as stopwords\n",
        "X = preprocessamento.remove_stopwords(X,stopword_list)"
      ],
      "metadata": {
        "id": "GzsVcap8mnpK"
      },
      "execution_count": null,
      "outputs": []
    },
    {
      "cell_type": "code",
      "source": [
        "#Definição do dicionário para realizar standartization \n",
        "std_list = {'eh': 'é', 'vc': 'você', 'vcs': \n",
        "'vocês','tb': 'também', 'tbm': 'também', \n",
        "'obg': 'obrigado', 'gnt': 'gente', 'q': \n",
        "'que', 'n': 'não', 'cmg': 'comigo', 'p': \n",
        "'para', 'ta': 'está', \n",
        "'to': 'estou', 'vdd': 'verdade', 'nao': 'não'}\n",
        "\n",
        "##X = preprocessamento.apply_standardization(X, std_list)\n",
        "X = preprocessamento.apply_stemmer(X)\n",
        "\n",
        "#Untokenização das variáveis\n",
        "X = preprocessamento.untokenize_text(X)"
      ],
      "metadata": {
        "id": "d7lPOba7mqe6"
      },
      "execution_count": null,
      "outputs": []
    },
    {
      "cell_type": "code",
      "source": [
        "#Realiza a vetorização (one-hot encoding)\n",
        "#Opção de realizar utilizando bi-gram ou não\n",
        "\n",
        "vectorizer = CountVectorizer()\n",
        "##vectorizer = CountVectorizer(ngram_range=(2, 2))\n",
        "\n",
        "\n",
        "#Define o número de features\n",
        "vectorizer.max_features = 5000\n",
        "\n",
        "X = vectorizer.fit_transform(X)\n",
        "X = X.toarray()\n",
        "\n",
        "#Obtem as palavras que serão usadas como features\n",
        "features = list(vectorizer.get_feature_names_out())\n",
        "\n",
        "#Utilização do método TF-idf para pesar a relevância das palavras no documento\n",
        "tfidf_transformer = TfidfTransformer()\n",
        "X = tfidf_transformer.fit_transform(X)\n",
        "X = X.toarray()"
      ],
      "metadata": {
        "id": "Fqt85t9Em68I"
      },
      "execution_count": null,
      "outputs": []
    },
    {
      "cell_type": "code",
      "source": [
        "#Separa a base de dados em treino e teste\n",
        "X_train, X_test, y_train, y_test = train_test_split(X,y,test_size=0.33, random_state=42)"
      ],
      "metadata": {
        "id": "ddyD_tAunBao"
      },
      "execution_count": null,
      "outputs": []
    },
    {
      "cell_type": "code",
      "source": [
        "#Utiliza a biblioteca random forest\n",
        "\n",
        "rfc = RandomForestClassifier(n_estimators=100, random_state=0)\n",
        "\n",
        "#Treinamento do modelo\n",
        "\n",
        "rfc.fit(X_train, y_train)"
      ],
      "metadata": {
        "colab": {
          "base_uri": "https://localhost:8080/"
        },
        "id": "PCDKZvewnESx",
        "outputId": "7ab9a5ef-8c55-48cf-c05a-ab1326de5d43"
      },
      "execution_count": null,
      "outputs": [
        {
          "output_type": "execute_result",
          "data": {
            "text/plain": [
              "RandomForestClassifier(random_state=0)"
            ]
          },
          "metadata": {},
          "execution_count": 159
        }
      ]
    },
    {
      "cell_type": "code",
      "source": [
        "#Realiza as previsões na base de teste\n",
        "y_pred = rfc.predict(X_test)\n",
        "\n",
        "#Analise dos resultados\n",
        "evaluation = Evaluation()\n",
        "\n",
        "matrix = metrics.confusion_matrix(y_test, y_pred)\n",
        "\n",
        "acc = evaluation.get_accuracy(matrix)\n",
        "f_score = evaluation.f_score(matrix)\n",
        "print(acc)\n",
        "print(f_score)"
      ],
      "metadata": {
        "colab": {
          "base_uri": "https://localhost:8080/"
        },
        "id": "fQp8CsxlnM2B",
        "outputId": "59cad753-227c-4fd6-f05d-ad04a3febda8"
      },
      "execution_count": null,
      "outputs": [
        {
          "output_type": "stream",
          "name": "stdout",
          "text": [
            "0.9420385779122542\n",
            "0.9201302931596091\n"
          ]
        }
      ]
    },
    {
      "cell_type": "code",
      "source": [
        "#Construção do gráfico com a importância das features\n",
        "X_train = pd.DataFrame(X_train)\n",
        "X_test = pd.DataFrame(X_test)\n",
        "\n",
        "feature_scores = pd.Series(rfc.feature_importances_, index=X_train.columns).sort_values(ascending=False)\n",
        "\n",
        "#Transformar o código das features em palavras\n",
        "indice = list(feature_scores.index)\n",
        "palavras = []\n",
        "for i in indice:\n",
        "    palavras.append(features[i])\n",
        "\n",
        "# Plotando o gráfico\n",
        "sns.barplot(x=feature_scores[:10], y=palavras[:10])\n",
        "\n",
        "plt.xlabel('Feature Importance Score')\n",
        "plt.ylabel('Features')\n",
        "plt.title(\"Visualizing Important Features\")\n",
        "plt.show()"
      ],
      "metadata": {
        "colab": {
          "base_uri": "https://localhost:8080/",
          "height": 295
        },
        "id": "JXoZyjlDnTNx",
        "outputId": "a3be286d-ad76-4aa4-d909-ff488a89811e"
      },
      "execution_count": null,
      "outputs": [
        {
          "output_type": "display_data",
          "data": {
            "text/plain": [
              "<Figure size 432x288 with 1 Axes>"
            ],
            "image/png": "[encoded data removed]"
          },
          "metadata": {
            "needs_background": "light"
          }
        }
      ]
    },
    {
      "cell_type": "code",
      "source": [
        "#Define o plot\n",
        "fig, ax = plt.subplots(figsize=(10,6))\n",
        "\n",
        "#Adiciona o titulo para o mapa de calor\n",
        "title = \"Matriz de confusão\"\n",
        "\n",
        "plt.title(title,fontsize=18)\n",
        "ttl = ax.title\n",
        "ttl.set_position([0.5,1.05])\n",
        "\n",
        "##sns.heatmap(matrix, annot=True, fmt=\"\",linewidths=0.30,ax=ax)\n",
        "sns.heatmap(matrix/np.sum(matrix), annot=True, \n",
        "            fmt='.2%', cmap='Blues',ax=ax)\n",
        "ax.set_ylabel(\"True label\",fontsize=12)\n",
        "ax.set_xlabel(\"Predicted Label\",fontsize=12)\n",
        "plt.show()"
      ],
      "metadata": {
        "colab": {
          "base_uri": "https://localhost:8080/",
          "height": 427
        },
        "id": "ddqU0bWWLBh_",
        "outputId": "fdc994b0-59d2-4014-883f-bc8e2b1b8dea"
      },
      "execution_count": null,
      "outputs": [
        {
          "output_type": "display_data",
          "data": {
            "text/plain": [
              "<Figure size 720x432 with 2 Axes>"
            ],
            "image/png": "[encoded data removed]"
          },
          "metadata": {
            "needs_background": "light"
          }
        }
      ]
    }
  ]
}